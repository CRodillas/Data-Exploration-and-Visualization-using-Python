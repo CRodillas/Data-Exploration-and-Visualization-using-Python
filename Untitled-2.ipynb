{
 "cells": [
  {
   "cell_type": "code",
   "execution_count": 1,
   "id": "0fd14855",
   "metadata": {},
   "outputs": [],
   "source": [
    "import pandas as pd\n",
    "import numpy as np\n",
    "import seaborn as sns\n",
    "import matplotlib.pyplot as plt"
   ]
  },
  {
   "cell_type": "markdown",
   "id": "4bac7203",
   "metadata": {},
   "source": [
    "### Lab 1"
   ]
  },
  {
   "cell_type": "markdown",
   "id": "c0b10079",
   "metadata": {},
   "source": [
    "1. Load the Data\n"
   ]
  },
  {
   "cell_type": "code",
   "execution_count": 8,
   "id": "0e5f4aa9",
   "metadata": {},
   "outputs": [
    {
     "name": "stdout",
     "output_type": "stream",
     "text": [
      "Original DataFrame with Missing Values:\n",
      "    Age  Rating Service_Type\n",
      "0  25.0     3.5        Phone\n",
      "1  30.0     4.0         Chat\n",
      "2  45.0     4.5        Email\n",
      "3   NaN     5.0          App\n",
      "4  35.0     NaN          NaN\n",
      "5  28.0     2.5        Phone\n",
      "6  55.0     4.0        Email\n",
      "7  60.0     NaN        Phone\n",
      "8   NaN     3.0         Chat\n",
      "9  25.0     3.5        Email\n"
     ]
    }
   ],
   "source": [
    "data1 = {\n",
    "    'Age': [25, 30, 45, None, 35, 28, 55, 60, np.nan, 25],\n",
    "    'Rating': [3.5, 4.0, 4.5, 5.0, np.nan, 2.5, 4.0, np.nan, 3.0, 3.5],\n",
    "    'Service_Type': ['Phone', 'Chat', 'Email', 'App', np.nan, 'Phone',\n",
    "                     'Email', 'Phone', 'Chat', 'Email']\n",
    "}\n",
    "df1 = pd.DataFrame(data1)\n",
    "\n",
    "print(\"Original DataFrame with Missing Values:\")\n",
    "print(df1)\n"
   ]
  },
  {
   "cell_type": "markdown",
   "id": "16596a63",
   "metadata": {},
   "source": [
    "2. Iden Missing Dta"
   ]
  },
  {
   "cell_type": "code",
   "execution_count": 11,
   "id": "80b8fed3",
   "metadata": {},
   "outputs": [
    {
     "name": "stdout",
     "output_type": "stream",
     "text": [
      "\n",
      "Missing Values in Each Column:\n"
     ]
    },
    {
     "data": {
      "text/plain": [
       "Age             2\n",
       "Rating          2\n",
       "Service_Type    1\n",
       "dtype: int64"
      ]
     },
     "execution_count": 11,
     "metadata": {},
     "output_type": "execute_result"
    }
   ],
   "source": [
    "print(\"\\nMissing Values in Each Column:\")\n",
    "df1.isnull().sum()"
   ]
  },
  {
   "cell_type": "markdown",
   "id": "8e52bee6",
   "metadata": {},
   "source": [
    "3. Handling missing data\n"
   ]
  },
  {
   "cell_type": "markdown",
   "id": "4ce08e6d",
   "metadata": {},
   "source": [
    "for age and rating"
   ]
  },
  {
   "cell_type": "code",
   "execution_count": 13,
   "id": "552b604e",
   "metadata": {},
   "outputs": [
    {
     "name": "stderr",
     "output_type": "stream",
     "text": [
      "/var/folders/vz/0y109gs96112xlq357yy62280000gn/T/ipykernel_34684/3087604574.py:1: FutureWarning: A value is trying to be set on a copy of a DataFrame or Series through chained assignment using an inplace method.\n",
      "The behavior will change in pandas 3.0. This inplace method will never work because the intermediate object on which we are setting values always behaves as a copy.\n",
      "\n",
      "For example, when doing 'df[col].method(value, inplace=True)', try using 'df.method({col: value}, inplace=True)' or df[col] = df[col].method(value) instead, to perform the operation inplace on the original object.\n",
      "\n",
      "\n",
      "  df1['Age'].fillna(df1['Age'].median(), inplace=True)\n",
      "/var/folders/vz/0y109gs96112xlq357yy62280000gn/T/ipykernel_34684/3087604574.py:2: FutureWarning: A value is trying to be set on a copy of a DataFrame or Series through chained assignment using an inplace method.\n",
      "The behavior will change in pandas 3.0. This inplace method will never work because the intermediate object on which we are setting values always behaves as a copy.\n",
      "\n",
      "For example, when doing 'df[col].method(value, inplace=True)', try using 'df.method({col: value}, inplace=True)' or df[col] = df[col].method(value) instead, to perform the operation inplace on the original object.\n",
      "\n",
      "\n",
      "  df1['Rating'].fillna(df1['Rating'].median(), inplace=True)\n"
     ]
    }
   ],
   "source": [
    "df1['Age'].fillna(df1['Age'].median(), inplace=True)\n",
    "df1['Rating'].fillna(df1['Rating'].median(), inplace=True)"
   ]
  },
  {
   "cell_type": "markdown",
   "id": "6c987027",
   "metadata": {},
   "source": [
    "for service type"
   ]
  },
  {
   "cell_type": "code",
   "execution_count": 15,
   "id": "46ba016c",
   "metadata": {},
   "outputs": [
    {
     "name": "stderr",
     "output_type": "stream",
     "text": [
      "/var/folders/vz/0y109gs96112xlq357yy62280000gn/T/ipykernel_34684/797260126.py:1: FutureWarning: A value is trying to be set on a copy of a DataFrame or Series through chained assignment using an inplace method.\n",
      "The behavior will change in pandas 3.0. This inplace method will never work because the intermediate object on which we are setting values always behaves as a copy.\n",
      "\n",
      "For example, when doing 'df[col].method(value, inplace=True)', try using 'df.method({col: value}, inplace=True)' or df[col] = df[col].method(value) instead, to perform the operation inplace on the original object.\n",
      "\n",
      "\n",
      "  df1['Service_Type'].fillna(df1['Service_Type'].mode()[0], inplace=True)\n"
     ]
    }
   ],
   "source": [
    "df1['Service_Type'].fillna(df1['Service_Type'].mode()[0], inplace=True)\n"
   ]
  },
  {
   "cell_type": "code",
   "execution_count": 18,
   "id": "c4469f3e",
   "metadata": {},
   "outputs": [
    {
     "data": {
      "text/html": [
       "<div>\n",
       "<style scoped>\n",
       "    .dataframe tbody tr th:only-of-type {\n",
       "        vertical-align: middle;\n",
       "    }\n",
       "\n",
       "    .dataframe tbody tr th {\n",
       "        vertical-align: top;\n",
       "    }\n",
       "\n",
       "    .dataframe thead th {\n",
       "        text-align: right;\n",
       "    }\n",
       "</style>\n",
       "<table border=\"1\" class=\"dataframe\">\n",
       "  <thead>\n",
       "    <tr style=\"text-align: right;\">\n",
       "      <th></th>\n",
       "      <th>Age</th>\n",
       "      <th>Rating</th>\n",
       "      <th>Service_Type</th>\n",
       "    </tr>\n",
       "  </thead>\n",
       "  <tbody>\n",
       "    <tr>\n",
       "      <th>0</th>\n",
       "      <td>25.0</td>\n",
       "      <td>3.50</td>\n",
       "      <td>Phone</td>\n",
       "    </tr>\n",
       "    <tr>\n",
       "      <th>1</th>\n",
       "      <td>30.0</td>\n",
       "      <td>4.00</td>\n",
       "      <td>Chat</td>\n",
       "    </tr>\n",
       "    <tr>\n",
       "      <th>2</th>\n",
       "      <td>45.0</td>\n",
       "      <td>4.50</td>\n",
       "      <td>Email</td>\n",
       "    </tr>\n",
       "    <tr>\n",
       "      <th>3</th>\n",
       "      <td>32.5</td>\n",
       "      <td>5.00</td>\n",
       "      <td>App</td>\n",
       "    </tr>\n",
       "    <tr>\n",
       "      <th>4</th>\n",
       "      <td>35.0</td>\n",
       "      <td>3.75</td>\n",
       "      <td>Email</td>\n",
       "    </tr>\n",
       "    <tr>\n",
       "      <th>5</th>\n",
       "      <td>28.0</td>\n",
       "      <td>2.50</td>\n",
       "      <td>Phone</td>\n",
       "    </tr>\n",
       "    <tr>\n",
       "      <th>6</th>\n",
       "      <td>55.0</td>\n",
       "      <td>4.00</td>\n",
       "      <td>Email</td>\n",
       "    </tr>\n",
       "    <tr>\n",
       "      <th>7</th>\n",
       "      <td>60.0</td>\n",
       "      <td>3.75</td>\n",
       "      <td>Phone</td>\n",
       "    </tr>\n",
       "    <tr>\n",
       "      <th>8</th>\n",
       "      <td>32.5</td>\n",
       "      <td>3.00</td>\n",
       "      <td>Chat</td>\n",
       "    </tr>\n",
       "    <tr>\n",
       "      <th>9</th>\n",
       "      <td>25.0</td>\n",
       "      <td>3.50</td>\n",
       "      <td>Email</td>\n",
       "    </tr>\n",
       "  </tbody>\n",
       "</table>\n",
       "</div>"
      ],
      "text/plain": [
       "    Age  Rating Service_Type\n",
       "0  25.0    3.50        Phone\n",
       "1  30.0    4.00         Chat\n",
       "2  45.0    4.50        Email\n",
       "3  32.5    5.00          App\n",
       "4  35.0    3.75        Email\n",
       "5  28.0    2.50        Phone\n",
       "6  55.0    4.00        Email\n",
       "7  60.0    3.75        Phone\n",
       "8  32.5    3.00         Chat\n",
       "9  25.0    3.50        Email"
      ]
     },
     "execution_count": 18,
     "metadata": {},
     "output_type": "execute_result"
    }
   ],
   "source": [
    "df1"
   ]
  },
  {
   "cell_type": "markdown",
   "id": "e1234249",
   "metadata": {},
   "source": [
    "Now, there are no missing data. To double check, we can print the number of the missing data."
   ]
  },
  {
   "cell_type": "code",
   "execution_count": 19,
   "id": "bbcb6ed5",
   "metadata": {},
   "outputs": [
    {
     "name": "stdout",
     "output_type": "stream",
     "text": [
      "Missing Values After Handling:\n"
     ]
    },
    {
     "data": {
      "text/plain": [
       "Age             0\n",
       "Rating          0\n",
       "Service_Type    0\n",
       "dtype: int64"
      ]
     },
     "execution_count": 19,
     "metadata": {},
     "output_type": "execute_result"
    }
   ],
   "source": [
    "print(\"Missing Values After Handling:\")\n",
    "df1.isnull().sum()"
   ]
  },
  {
   "cell_type": "markdown",
   "id": "e64a0351",
   "metadata": {},
   "source": [
    "### Lab 2: Movie Ratings"
   ]
  },
  {
   "cell_type": "code",
   "execution_count": 21,
   "id": "27390818",
   "metadata": {},
   "outputs": [],
   "source": [
    "data2 = {\n",
    "    'Movie': ['Inception', 'The Matrix', 'Avatar', 'Interstellar', 'Parasite',\n",
    "              'Inception', 'The Matrix', 'Avatar', 'Interstellar', 'Parasite'],\n",
    "    'Rating': [4.5, 5.0, 3.5, 4.0, 4.8, 100.0, 4.2, 0.0, 4.1, 4.9]\n",
    "}"
   ]
  },
  {
   "cell_type": "code",
   "execution_count": 22,
   "id": "14e33c2f",
   "metadata": {},
   "outputs": [],
   "source": [
    "df2 = pd.DataFrame(data2)"
   ]
  },
  {
   "cell_type": "code",
   "execution_count": 23,
   "id": "810b390b",
   "metadata": {},
   "outputs": [
    {
     "name": "stdout",
     "output_type": "stream",
     "text": [
      "Original Movie Ratings Data:\n"
     ]
    },
    {
     "data": {
      "text/html": [
       "<div>\n",
       "<style scoped>\n",
       "    .dataframe tbody tr th:only-of-type {\n",
       "        vertical-align: middle;\n",
       "    }\n",
       "\n",
       "    .dataframe tbody tr th {\n",
       "        vertical-align: top;\n",
       "    }\n",
       "\n",
       "    .dataframe thead th {\n",
       "        text-align: right;\n",
       "    }\n",
       "</style>\n",
       "<table border=\"1\" class=\"dataframe\">\n",
       "  <thead>\n",
       "    <tr style=\"text-align: right;\">\n",
       "      <th></th>\n",
       "      <th>Movie</th>\n",
       "      <th>Rating</th>\n",
       "    </tr>\n",
       "  </thead>\n",
       "  <tbody>\n",
       "    <tr>\n",
       "      <th>0</th>\n",
       "      <td>Inception</td>\n",
       "      <td>4.5</td>\n",
       "    </tr>\n",
       "    <tr>\n",
       "      <th>1</th>\n",
       "      <td>The Matrix</td>\n",
       "      <td>5.0</td>\n",
       "    </tr>\n",
       "    <tr>\n",
       "      <th>2</th>\n",
       "      <td>Avatar</td>\n",
       "      <td>3.5</td>\n",
       "    </tr>\n",
       "    <tr>\n",
       "      <th>3</th>\n",
       "      <td>Interstellar</td>\n",
       "      <td>4.0</td>\n",
       "    </tr>\n",
       "    <tr>\n",
       "      <th>4</th>\n",
       "      <td>Parasite</td>\n",
       "      <td>4.8</td>\n",
       "    </tr>\n",
       "    <tr>\n",
       "      <th>5</th>\n",
       "      <td>Inception</td>\n",
       "      <td>100.0</td>\n",
       "    </tr>\n",
       "    <tr>\n",
       "      <th>6</th>\n",
       "      <td>The Matrix</td>\n",
       "      <td>4.2</td>\n",
       "    </tr>\n",
       "    <tr>\n",
       "      <th>7</th>\n",
       "      <td>Avatar</td>\n",
       "      <td>0.0</td>\n",
       "    </tr>\n",
       "    <tr>\n",
       "      <th>8</th>\n",
       "      <td>Interstellar</td>\n",
       "      <td>4.1</td>\n",
       "    </tr>\n",
       "    <tr>\n",
       "      <th>9</th>\n",
       "      <td>Parasite</td>\n",
       "      <td>4.9</td>\n",
       "    </tr>\n",
       "  </tbody>\n",
       "</table>\n",
       "</div>"
      ],
      "text/plain": [
       "          Movie  Rating\n",
       "0     Inception     4.5\n",
       "1    The Matrix     5.0\n",
       "2        Avatar     3.5\n",
       "3  Interstellar     4.0\n",
       "4      Parasite     4.8\n",
       "5     Inception   100.0\n",
       "6    The Matrix     4.2\n",
       "7        Avatar     0.0\n",
       "8  Interstellar     4.1\n",
       "9      Parasite     4.9"
      ]
     },
     "execution_count": 23,
     "metadata": {},
     "output_type": "execute_result"
    }
   ],
   "source": [
    "print(\"Original Movie Ratings Data:\")\n",
    "df2"
   ]
  },
  {
   "cell_type": "markdown",
   "id": "e552fccb",
   "metadata": {},
   "source": [
    "2. EDA"
   ]
  },
  {
   "cell_type": "code",
   "execution_count": 26,
   "id": "1b216aea",
   "metadata": {},
   "outputs": [
    {
     "name": "stdout",
     "output_type": "stream",
     "text": [
      "Summary Statistics Before Handling Outliers:\n"
     ]
    },
    {
     "data": {
      "text/plain": [
       "count     10.000000\n",
       "mean      13.500000\n",
       "std       30.427509\n",
       "min        0.000000\n",
       "25%        4.025000\n",
       "50%        4.350000\n",
       "75%        4.875000\n",
       "max      100.000000\n",
       "Name: Rating, dtype: float64"
      ]
     },
     "execution_count": 26,
     "metadata": {},
     "output_type": "execute_result"
    }
   ],
   "source": [
    "print(\"Summary Statistics Before Handling Outliers:\")\n",
    "df2['Rating'].describe()"
   ]
  },
  {
   "cell_type": "code",
   "execution_count": 28,
   "id": "23a1ccba",
   "metadata": {},
   "outputs": [
    {
     "data": {
      "image/png": "[encoded data removed]",
      "text/plain": [
       "<Figure size 640x480 with 1 Axes>"
      ]
     },
     "metadata": {},
     "output_type": "display_data"
    }
   ],
   "source": [
    "plt.figure()\n",
    "sns.boxplot(x=df['Rating'])\n",
    "plt.title(\"Boxplot of Movie Ratings /w Outliers\")\n",
    "plt.show()\n",
    "\n"
   ]
  },
  {
   "cell_type": "markdown",
   "id": "c90cb4ad",
   "metadata": {},
   "source": [
    "Figure 1. Boxplot with Outliers\n",
    "The figure above shows a boxplot with outliers on the 100, apparent from the right-most of thr figure. As you can see, the boxplot does not even look like a boxplot due to the spread of a single review. Because of that, that singular review could alter the entire numerical value of the data in general. Assuming that the reviews from the other movie is 1-5 or 1-10, the single review alters the whole analysis. \n"
   ]
  },
  {
   "cell_type": "code",
   "execution_count": 31,
   "id": "a9535d78",
   "metadata": {},
   "outputs": [
    {
     "name": "stdout",
     "output_type": "stream",
     "text": [
      "Lower Bound: 2.750000000000001, Upper Bound: 6.1499999999999995\n"
     ]
    }
   ],
   "source": [
    "Q1 = df2['Rating'].quantile(0.25)\n",
    "Q3 = df2['Rating'].quantile(0.75)\n",
    "IQR = Q3 - Q1\n",
    "\n",
    "l_bound = Q1 - 1.5 * IQR\n",
    "up_bound = Q3 + 1.5 * IQR\n",
    "\n",
    "print(f\"Lower Bound: {l_bound}, Upper Bound: {up_bound}\")"
   ]
  },
  {
   "cell_type": "code",
   "execution_count": 33,
   "id": "50c52ce8",
   "metadata": {},
   "outputs": [
    {
     "data": {
      "text/html": [
       "<div>\n",
       "<style scoped>\n",
       "    .dataframe tbody tr th:only-of-type {\n",
       "        vertical-align: middle;\n",
       "    }\n",
       "\n",
       "    .dataframe tbody tr th {\n",
       "        vertical-align: top;\n",
       "    }\n",
       "\n",
       "    .dataframe thead th {\n",
       "        text-align: right;\n",
       "    }\n",
       "</style>\n",
       "<table border=\"1\" class=\"dataframe\">\n",
       "  <thead>\n",
       "    <tr style=\"text-align: right;\">\n",
       "      <th></th>\n",
       "      <th>Movie</th>\n",
       "      <th>Rating</th>\n",
       "    </tr>\n",
       "  </thead>\n",
       "  <tbody>\n",
       "    <tr>\n",
       "      <th>0</th>\n",
       "      <td>Inception</td>\n",
       "      <td>4.5</td>\n",
       "    </tr>\n",
       "    <tr>\n",
       "      <th>1</th>\n",
       "      <td>The Matrix</td>\n",
       "      <td>5.0</td>\n",
       "    </tr>\n",
       "    <tr>\n",
       "      <th>2</th>\n",
       "      <td>Avatar</td>\n",
       "      <td>3.5</td>\n",
       "    </tr>\n",
       "    <tr>\n",
       "      <th>3</th>\n",
       "      <td>Interstellar</td>\n",
       "      <td>4.0</td>\n",
       "    </tr>\n",
       "    <tr>\n",
       "      <th>4</th>\n",
       "      <td>Parasite</td>\n",
       "      <td>4.8</td>\n",
       "    </tr>\n",
       "    <tr>\n",
       "      <th>6</th>\n",
       "      <td>The Matrix</td>\n",
       "      <td>4.2</td>\n",
       "    </tr>\n",
       "    <tr>\n",
       "      <th>8</th>\n",
       "      <td>Interstellar</td>\n",
       "      <td>4.1</td>\n",
       "    </tr>\n",
       "    <tr>\n",
       "      <th>9</th>\n",
       "      <td>Parasite</td>\n",
       "      <td>4.9</td>\n",
       "    </tr>\n",
       "  </tbody>\n",
       "</table>\n",
       "</div>"
      ],
      "text/plain": [
       "          Movie  Rating\n",
       "0     Inception     4.5\n",
       "1    The Matrix     5.0\n",
       "2        Avatar     3.5\n",
       "3  Interstellar     4.0\n",
       "4      Parasite     4.8\n",
       "6    The Matrix     4.2\n",
       "8  Interstellar     4.1\n",
       "9      Parasite     4.9"
      ]
     },
     "execution_count": 33,
     "metadata": {},
     "output_type": "execute_result"
    }
   ],
   "source": [
    "df2_clean = df2[(df2['Rating'] >= l_bound) & (df2['Rating'] <= up_bound)]\n",
    "df2_clean"
   ]
  },
  {
   "cell_type": "markdown",
   "id": "fa83a7fa",
   "metadata": {},
   "source": [
    "Now, to verify the results,\n",
    "\n",
    "4a. Summary Statistics with no outliers"
   ]
  },
  {
   "cell_type": "code",
   "execution_count": 36,
   "id": "91303042",
   "metadata": {},
   "outputs": [
    {
     "data": {
      "text/plain": [
       "count    8.000000\n",
       "mean     4.375000\n",
       "std      0.517549\n",
       "min      3.500000\n",
       "25%      4.075000\n",
       "50%      4.350000\n",
       "75%      4.825000\n",
       "max      5.000000\n",
       "Name: Rating, dtype: float64"
      ]
     },
     "execution_count": 36,
     "metadata": {},
     "output_type": "execute_result"
    }
   ],
   "source": [
    "df2_clean['Rating'].describe()"
   ]
  },
  {
   "cell_type": "markdown",
   "id": "fd596f19",
   "metadata": {},
   "source": [
    "Now, the mean fits to the original 1-5 range"
   ]
  },
  {
   "cell_type": "markdown",
   "id": "262f72e4",
   "metadata": {},
   "source": [
    "4b. Visualization of a clean data w/o outliers"
   ]
  },
  {
   "cell_type": "code",
   "execution_count": 39,
   "id": "f85c8f18",
   "metadata": {},
   "outputs": [
    {
     "data": {
      "image/png": "[encoded data removed]",
      "text/plain": [
       "<Figure size 640x480 with 1 Axes>"
      ]
     },
     "metadata": {},
     "output_type": "display_data"
    }
   ],
   "source": [
    "sns.boxplot(x=df2_clean['Rating'])\n",
    "plt.title(\"Boxplot of Movie Ratings Cleand NO Outliers\")\n",
    "plt.show()"
   ]
  },
  {
   "cell_type": "markdown",
   "id": "89be2283",
   "metadata": {},
   "source": [
    "FIGURE 2. Looking at the graph, \n",
    "\n",
    "Before cleaning: mean and std were heavily skewed by 0 and 100.\n",
    "After cleaning: ratings are all within 3.5–5.0, mean and std reflect realistic values. Now. it can be seen that most of the ratings fall around the 4.4 to 4.8 range."
   ]
  },
  {
   "cell_type": "code",
   "execution_count": null,
   "id": "aed70deb",
   "metadata": {},
   "outputs": [],
   "source": []
  }
 ],
 "metadata": {
  "kernelspec": {
   "display_name": "Python 3",
   "language": "python",
   "name": "python3"
  },
  "language_info": {
   "codemirror_mode": {
    "name": "ipython",
    "version": 3
   },
   "file_extension": ".py",
   "mimetype": "text/x-python",
   "name": "python",
   "nbconvert_exporter": "python",
   "pygments_lexer": "ipython3",
   "version": "3.13.6"
  }
 },
 "nbformat": 4,
 "nbformat_minor": 5
}
